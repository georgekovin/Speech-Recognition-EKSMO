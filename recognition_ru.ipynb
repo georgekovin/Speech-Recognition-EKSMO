{
 "cells": [
  {
   "cell_type": "markdown",
   "metadata": {},
   "source": [
    "# <center> **Распознавание речи в текст на русском языке**\n",
    "# <center> **(задание от ЭКСМО)**"
   ]
  },
  {
   "cell_type": "markdown",
   "metadata": {},
   "source": [
    "Импорт библиотек "
   ]
  },
  {
   "cell_type": "code",
   "execution_count": 28,
   "metadata": {},
   "outputs": [],
   "source": [
    "import pandas as pd # чтение данных\n",
    "from numpy.random import randint # случайное число\n",
    "import json # для сохраения текстовых файлов\n",
    "\n",
    "import warnings as w # чтобы предупреждения не мешали\n",
    "w.filterwarnings('ignore')"
   ]
  },
  {
   "cell_type": "markdown",
   "metadata": {},
   "source": [
    "## Данные"
   ]
  },
  {
   "cell_type": "code",
   "execution_count": 29,
   "metadata": {},
   "outputs": [
    {
     "data": {
      "text/html": [
       "<div>\n",
       "<style scoped>\n",
       "    .dataframe tbody tr th:only-of-type {\n",
       "        vertical-align: middle;\n",
       "    }\n",
       "\n",
       "    .dataframe tbody tr th {\n",
       "        vertical-align: top;\n",
       "    }\n",
       "\n",
       "    .dataframe thead th {\n",
       "        text-align: right;\n",
       "    }\n",
       "</style>\n",
       "<table border=\"1\" class=\"dataframe\">\n",
       "  <thead>\n",
       "    <tr style=\"text-align: right;\">\n",
       "      <th></th>\n",
       "      <th>id</th>\n",
       "      <th>audio_filepath</th>\n",
       "      <th>text</th>\n",
       "      <th>duration</th>\n",
       "    </tr>\n",
       "  </thead>\n",
       "  <tbody>\n",
       "    <tr>\n",
       "      <th>0</th>\n",
       "      <td>e632f7d39c15e7edfc665b91e6f2071f</td>\n",
       "      <td>files/e632f7d39c15e7edfc665b91e6f2071f.wav</td>\n",
       "      <td>афина воспроизведи музыку вперемешку</td>\n",
       "      <td>4.900000</td>\n",
       "    </tr>\n",
       "    <tr>\n",
       "      <th>1</th>\n",
       "      <td>5db5df8bb9e3b6660b2a04b34d4a355d</td>\n",
       "      <td>files/5db5df8bb9e3b6660b2a04b34d4a355d.wav</td>\n",
       "      <td>найти сериал григорий р</td>\n",
       "      <td>3.652000</td>\n",
       "    </tr>\n",
       "    <tr>\n",
       "      <th>2</th>\n",
       "      <td>2c471aedc6979109f28cd53c58f8c4fb</td>\n",
       "      <td>files/2c471aedc6979109f28cd53c58f8c4fb.wav</td>\n",
       "      <td>прямой эфир апл манчестер юнайтед тоттенхэм</td>\n",
       "      <td>4.341750</td>\n",
       "    </tr>\n",
       "    <tr>\n",
       "      <th>3</th>\n",
       "      <td>756a137ee9debde4a008adc4a4121dc7</td>\n",
       "      <td>files/756a137ee9debde4a008adc4a4121dc7.wav</td>\n",
       "      <td>ильвиром ивановичем ворончихиным</td>\n",
       "      <td>3.900000</td>\n",
       "    </tr>\n",
       "    <tr>\n",
       "      <th>4</th>\n",
       "      <td>1ee3b00170123a6723a40e129b2f6bce</td>\n",
       "      <td>files/1ee3b00170123a6723a40e129b2f6bce.wav</td>\n",
       "      <td>можешь показать киношку исходный код</td>\n",
       "      <td>3.320000</td>\n",
       "    </tr>\n",
       "    <tr>\n",
       "      <th>...</th>\n",
       "      <td>...</td>\n",
       "      <td>...</td>\n",
       "      <td>...</td>\n",
       "      <td>...</td>\n",
       "    </tr>\n",
       "    <tr>\n",
       "      <th>9989</th>\n",
       "      <td>73bb9272fe3724eb6212e33186f63152</td>\n",
       "      <td>files/73bb9272fe3724eb6212e33186f63152.wav</td>\n",
       "      <td>рудню</td>\n",
       "      <td>2.260000</td>\n",
       "    </tr>\n",
       "    <tr>\n",
       "      <th>9990</th>\n",
       "      <td>c872c6f50709a2696b0927725dc86ded</td>\n",
       "      <td>files/c872c6f50709a2696b0927725dc86ded.wav</td>\n",
       "      <td>найти мульт щенячий патруль</td>\n",
       "      <td>3.020000</td>\n",
       "    </tr>\n",
       "    <tr>\n",
       "      <th>9991</th>\n",
       "      <td>03b92263995462b2e09655a8e29d4d0b</td>\n",
       "      <td>files/03b92263995462b2e09655a8e29d4d0b.wav</td>\n",
       "      <td>стол из эпоксидной смолы</td>\n",
       "      <td>3.598688</td>\n",
       "    </tr>\n",
       "    <tr>\n",
       "      <th>9992</th>\n",
       "      <td>09ac1f9718c6da18380b4a01d92d2561</td>\n",
       "      <td>files/09ac1f9718c6da18380b4a01d92d2561.wav</td>\n",
       "      <td>шесть четыреста семьдесят шесть четыреста двад...</td>\n",
       "      <td>11.795312</td>\n",
       "    </tr>\n",
       "    <tr>\n",
       "      <th>9993</th>\n",
       "      <td>a083e695744a9191ebb7f8cc85925f9f</td>\n",
       "      <td>files/a083e695744a9191ebb7f8cc85925f9f.wav</td>\n",
       "      <td>короткометражный</td>\n",
       "      <td>2.832438</td>\n",
       "    </tr>\n",
       "  </tbody>\n",
       "</table>\n",
       "<p>9994 rows × 4 columns</p>\n",
       "</div>"
      ],
      "text/plain": [
       "                                    id  \\\n",
       "0     e632f7d39c15e7edfc665b91e6f2071f   \n",
       "1     5db5df8bb9e3b6660b2a04b34d4a355d   \n",
       "2     2c471aedc6979109f28cd53c58f8c4fb   \n",
       "3     756a137ee9debde4a008adc4a4121dc7   \n",
       "4     1ee3b00170123a6723a40e129b2f6bce   \n",
       "...                                ...   \n",
       "9989  73bb9272fe3724eb6212e33186f63152   \n",
       "9990  c872c6f50709a2696b0927725dc86ded   \n",
       "9991  03b92263995462b2e09655a8e29d4d0b   \n",
       "9992  09ac1f9718c6da18380b4a01d92d2561   \n",
       "9993  a083e695744a9191ebb7f8cc85925f9f   \n",
       "\n",
       "                                  audio_filepath  \\\n",
       "0     files/e632f7d39c15e7edfc665b91e6f2071f.wav   \n",
       "1     files/5db5df8bb9e3b6660b2a04b34d4a355d.wav   \n",
       "2     files/2c471aedc6979109f28cd53c58f8c4fb.wav   \n",
       "3     files/756a137ee9debde4a008adc4a4121dc7.wav   \n",
       "4     files/1ee3b00170123a6723a40e129b2f6bce.wav   \n",
       "...                                          ...   \n",
       "9989  files/73bb9272fe3724eb6212e33186f63152.wav   \n",
       "9990  files/c872c6f50709a2696b0927725dc86ded.wav   \n",
       "9991  files/03b92263995462b2e09655a8e29d4d0b.wav   \n",
       "9992  files/09ac1f9718c6da18380b4a01d92d2561.wav   \n",
       "9993  files/a083e695744a9191ebb7f8cc85925f9f.wav   \n",
       "\n",
       "                                                   text   duration  \n",
       "0                  афина воспроизведи музыку вперемешку   4.900000  \n",
       "1                               найти сериал григорий р   3.652000  \n",
       "2           прямой эфир апл манчестер юнайтед тоттенхэм   4.341750  \n",
       "3                      ильвиром ивановичем ворончихиным   3.900000  \n",
       "4                  можешь показать киношку исходный код   3.320000  \n",
       "...                                                 ...        ...  \n",
       "9989                                              рудню   2.260000  \n",
       "9990                        найти мульт щенячий патруль   3.020000  \n",
       "9991                           стол из эпоксидной смолы   3.598688  \n",
       "9992  шесть четыреста семьдесят шесть четыреста двад...  11.795312  \n",
       "9993                                   короткометражный   2.832438  \n",
       "\n",
       "[9994 rows x 4 columns]"
      ]
     },
     "execution_count": 29,
     "metadata": {},
     "output_type": "execute_result"
    }
   ],
   "source": [
    "data = pd.read_json('data/manifest.jsonl', lines=True) # данные нужно прочитать \n",
    "\n",
    "data"
   ]
  },
  {
   "cell_type": "markdown",
   "metadata": {},
   "source": [
    "Моя идея состоит в том, чтобы случайным образом выбирать аудиофайл для дальнейшего чтения."
   ]
  },
  {
   "cell_type": "code",
   "execution_count": 30,
   "metadata": {},
   "outputs": [],
   "source": [
    "i = randint(0, data.shape[0]) # случайное число в диапазоне от 0 до последнего индекса таблицы `data`\n",
    "\n",
    "audio_id = data['id'].iloc[i] # название файла \n",
    "audio_path = 'data/' + data['audio_filepath'].iloc[i] # путь к файлу\n",
    "audio_text = data['text'].iloc[i] # реальный текст файла (для проверки качества распознавания)\n",
    "\n",
    "\n",
    "# создадим функцию для оценки качества распознавания и сохранения результата в текстовый формат\n",
    "def compare_and_dump(result, real, audio_id): \n",
    "    \"\"\" \n",
    "    Функция выводит на экран прочитанное сообщение (`result`), \n",
    "    затем выводит реальный текст (`real`), \n",
    "    и сравнивает, сходится ли первое co вторым. \n",
    "    \n",
    "    В конечном счете результат сохраняется в файл `.txt` в отдельную папку,\n",
    "    и выводится путь к этому файлу.\n",
    "    \n",
    "    \"\"\"\n",
    "    # приводим оба текста к единому регистру\n",
    "    result_str = str(result).lower() \n",
    "    real_str = str(real).lower()\n",
    "    \n",
    "    # булева переменная, идентично ли одно другому\n",
    "    similarity = result_str == real_str \n",
    "    \n",
    "    # вывод на экран сравнения результата и реального текста\n",
    "    print(f'Recognized is \"{result_str}\",',  \n",
    "          f'\\nwhile real is \"{real_str}\".',  \n",
    "          f'\\nSimilarity is {similarity}')\n",
    "    \n",
    "    # путь к созданному файлу с результатом\n",
    "    result_path = f'texts/{audio_id}_text.txt'\n",
    "    \n",
    "    # сохранение распознанного текста\n",
    "    with open(result_path, 'w') as f:\n",
    "        json.dump(result, f, ensure_ascii=False, indent=4)\n",
    "\n",
    "    # вывод того, куда был сохранен текст\n",
    "    print('\\nResult has been saved into '+result_path)"
   ]
  },
  {
   "cell_type": "markdown",
   "metadata": {},
   "source": [
    "## Speech Recognition (google)"
   ]
  },
  {
   "cell_type": "markdown",
   "metadata": {},
   "source": [
    "Для начала попробуем самый простой вариант - распознавание речи с помощью google. Реализуем его с помощью библиотеки SpeechRecognition."
   ]
  },
  {
   "cell_type": "code",
   "execution_count": 31,
   "metadata": {},
   "outputs": [],
   "source": [
    "import speech_recognition as sr # импорт SpeechRecognition"
   ]
  },
  {
   "cell_type": "code",
   "execution_count": 32,
   "metadata": {},
   "outputs": [
    {
     "name": "stdout",
     "output_type": "stream",
     "text": [
      "Recognized is \"найди взрывная девушка\", \n",
      "while real is \"найди взрывная девушка\". \n",
      "Similarity is True\n",
      "\n",
      "Result has been saved into texts/944a1912c6c9eda5236d4221b93d1bf1_google_text.txt\n"
     ]
    }
   ],
   "source": [
    "recog = sr.Recognizer() # инициализация распознавателя\n",
    "\n",
    "# записываем аудио на распознаватель\n",
    "with sr.AudioFile(audio_path) as audio:\n",
    "    rec = recog.record(audio)\n",
    "\n",
    "# распознаем аудио с помощью гугла, указываем русский язык\n",
    "result = recog.recognize_google(audio_data=rec, language='ru-RU') \n",
    "\n",
    "# сравниваем и сохраняем результат\n",
    "audio_id_google = audio_id + '_google'\n",
    "compare_and_dump(result, audio_text, audio_id_google)"
   ]
  },
  {
   "cell_type": "markdown",
   "metadata": {},
   "source": [
    "> В большинстве случаев google справляется неплохо с распознванием русской речи. "
   ]
  },
  {
   "cell_type": "markdown",
   "metadata": {},
   "source": [
    "## VOSK"
   ]
  },
  {
   "cell_type": "markdown",
   "metadata": {},
   "source": [
    "Попробуем теперь вариант посложнее - библиотека VOSK. Для нее я предварительно скачал русскоязычную модель. "
   ]
  },
  {
   "cell_type": "code",
   "execution_count": 33,
   "metadata": {},
   "outputs": [],
   "source": [
    "from vosk import Model, KaldiRecognizer # импорт VOSK\n",
    "from pydub import AudioSegment # из `pydub` берем AudioSegment для предобработки аудио"
   ]
  },
  {
   "cell_type": "code",
   "execution_count": 34,
   "metadata": {},
   "outputs": [
    {
     "name": "stdout",
     "output_type": "stream",
     "text": [
      "Recognized is \"найди\", \n",
      "while real is \"найди взрывная девушка\". \n",
      "Similarity is False\n",
      "\n",
      "Result has been saved into texts/944a1912c6c9eda5236d4221b93d1bf1_vosk_text.txt\n"
     ]
    }
   ],
   "source": [
    "model = Model(\"vosk_model\") # инициализируем модель\n",
    "recog = KaldiRecognizer(model, 16000) # выбираем распознаватель\n",
    "recog.SetWords(True) # разрешить слова\n",
    "\n",
    "# делаем предобработку аудио (wav)\n",
    "wav = (AudioSegment.from_wav(audio_path)\n",
    "       .set_channels(1)\n",
    "       .set_frame_rate(16000))\n",
    "\n",
    "# преобразуем вывод в json\n",
    "recog.AcceptWaveform(wav.raw_data)\n",
    "result = recog.Result()\n",
    "text = json.loads(result)[\"text\"] # выбираем из результата только текст\n",
    "\n",
    "# сравниваем и сохраняем результат\n",
    "audio_id_vosk = audio_id + '_vosk'\n",
    "compare_and_dump(text, audio_text, audio_id_vosk)"
   ]
  },
  {
   "cell_type": "markdown",
   "metadata": {},
   "source": [
    "> Данная модель справляется намного хуже, чем google. К тому же и работает в среднем от 2-2.5 минут. Так что в качестве конечного результата используем google. "
   ]
  },
  {
   "cell_type": "markdown",
   "metadata": {},
   "source": [
    "> *Я использовал всего 2 модели, потому что многие из них требуют API, но его часто получить невозможно, так как у меня недостаточно прав для его получения, либо многие модели просто не устанавливаются.*"
   ]
  },
  {
   "cell_type": "markdown",
   "metadata": {},
   "source": [
    "## Конечная функция"
   ]
  },
  {
   "cell_type": "code",
   "execution_count": 37,
   "metadata": {},
   "outputs": [],
   "source": [
    "def google_recog(audio_file: str, dir_save_to: str): \n",
    "    \"\"\"\n",
    "    Распознавание русской речи с помощью модели Google. \n",
    "    \n",
    "    Аргументы:\n",
    "        `audio_file` (str) - путь к файлу в строковом формате (формат файла должен состоять из 3 букв). \\n\n",
    "        `dir_save_to` (str) - папка в которую нужно сохранить результат распознавание.\n",
    "        \n",
    "    Функция ничего не возвращает, только выводит результат на экран \n",
    "    и сохраняет его в формате `.txt` в указанную папку.\n",
    "    \"\"\"\n",
    "    \n",
    "    recog = sr.Recognizer() # инициализация распознавателя\n",
    "\n",
    "    # записываем аудио на распознаватель\n",
    "    with sr.AudioFile(audio_file) as audio:\n",
    "        rec = recog.record(audio)\n",
    "\n",
    "    # распознаем аудио с помощью гугла, указываем русский язык\n",
    "    result = recog.recognize_google(audio_data=rec, language='ru-RU') \n",
    "\n",
    "    print(result)\n",
    "    \n",
    "    # сравниваем и сохраняем результат\n",
    "    filename = audio_file.split('/')[-1][:-4] # выделяем имя файла \n",
    "    result_path = f'{dir_save_to}/{filename}_google_text.txt' # путь к файлу\n",
    "    \n",
    "    with open(result_path, 'w') as f:\n",
    "        json.dump(result, f, ensure_ascii=False, indent=4)"
   ]
  },
  {
   "cell_type": "code",
   "execution_count": 40,
   "metadata": {},
   "outputs": [
    {
     "name": "stdout",
     "output_type": "stream",
     "text": [
      "Найди взрывная девушка\n"
     ]
    }
   ],
   "source": [
    "google_recog(audio_path, 'texts')"
   ]
  }
 ],
 "metadata": {
  "kernelspec": {
   "display_name": "Python 3",
   "language": "python",
   "name": "python3"
  },
  "language_info": {
   "codemirror_mode": {
    "name": "ipython",
    "version": 3
   },
   "file_extension": ".py",
   "mimetype": "text/x-python",
   "name": "python",
   "nbconvert_exporter": "python",
   "pygments_lexer": "ipython3",
   "version": "3.11.0"
  },
  "orig_nbformat": 4
 },
 "nbformat": 4,
 "nbformat_minor": 2
}
