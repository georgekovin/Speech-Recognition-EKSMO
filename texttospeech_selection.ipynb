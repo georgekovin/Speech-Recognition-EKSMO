{
 "cells": [
  {
   "cell_type": "markdown",
   "metadata": {},
   "source": [
    "# <center> **Подбор модели перевода текста в аудио**"
   ]
  },
  {
   "cell_type": "code",
   "execution_count": 1,
   "metadata": {},
   "outputs": [],
   "source": [
    "text = 'Привет! Меня зовут Незнайка. Возьми микрофон, поболтаем.'\n",
    "lang = 'ru' "
   ]
  },
  {
   "cell_type": "markdown",
   "metadata": {},
   "source": [
    "## pyttsx (стандартная на python)"
   ]
  },
  {
   "cell_type": "code",
   "execution_count": 2,
   "metadata": {},
   "outputs": [],
   "source": [
    "import pyttsx3"
   ]
  },
  {
   "cell_type": "code",
   "execution_count": 3,
   "metadata": {},
   "outputs": [],
   "source": [
    "pyttsx3.speak(text) "
   ]
  },
  {
   "cell_type": "markdown",
   "metadata": {},
   "source": [
    "## gTTS (от google)"
   ]
  },
  {
   "cell_type": "code",
   "execution_count": 4,
   "metadata": {},
   "outputs": [],
   "source": [
    "from gtts import gTTS \n",
    "import playsound as ps "
   ]
  },
  {
   "cell_type": "code",
   "execution_count": 5,
   "metadata": {},
   "outputs": [],
   "source": [
    "speechmp3 = gTTS(text=text, lang=lang, slow=False)\n",
    "\n",
    "speechmp3.save('speech/idontknower_gtts.mp3')"
   ]
  },
  {
   "cell_type": "code",
   "execution_count": 6,
   "metadata": {},
   "outputs": [],
   "source": [
    "ps.playsound(sound='speech/idontknower_gtts.mp3')"
   ]
  },
  {
   "cell_type": "code",
   "execution_count": 19,
   "metadata": {},
   "outputs": [],
   "source": [
    "with open('userid.txt', 'rb') as f_user:\n",
    "    user_id = str(f_user)\n",
    "    \n",
    "with open('apikey.txt', 'rb') as f_api:\n",
    "    api_key = str(f_api)"
   ]
  },
  {
   "cell_type": "code",
   "execution_count": 20,
   "metadata": {},
   "outputs": [],
   "source": [
    "import requests\n",
    "\n",
    "url = \"https://api.play.ht/api/v2/tts\"\n",
    "\n",
    "payload = {\n",
    "    \"text\": \"Hello from a realistic voice.\",\n",
    "    \"voice\": \"s3://voice-cloning-zero-shot/d9ff78ba-d016-47f6-b0ef-dd630f59414e/female-cs/manifest.json\",\n",
    "    \"output_format\": \"mp3\",\n",
    "    \"voice_engine\": \"PlayHT2.0\"\n",
    "}\n",
    "headers = {\n",
    "    \"accept\": \"text/event-stream\",\n",
    "    \"content-type\": \"application/json\",\n",
    "    \"AUTHORIZATION\": api_key,\n",
    "    \"X-USER-ID\": user_id\n",
    "}\n",
    "\n",
    "response = requests.post(url, json=payload, headers=headers)"
   ]
  },
  {
   "cell_type": "code",
   "execution_count": null,
   "metadata": {},
   "outputs": [],
   "source": [
    "from pyht import Client\n",
    "from pyht.client import TTSOptions\n",
    "\n",
    "client = Client(user_id, api_key)\n",
    "\n",
    "options = TTSOptions(voice=\"s3://voice-cloning-zero-shot/d9ff78ba-d016-47f6-b0ef-dd630f59414e/female-cs/manifest.json\")\n",
    "\n",
    "for chunk in client.tts(\"Can you tell me your account email or, ah your phone number?\", options):\n",
    "    print(type(chunk))"
   ]
  }
 ],
 "metadata": {
  "kernelspec": {
   "display_name": "Python 3",
   "language": "python",
   "name": "python3"
  },
  "language_info": {
   "codemirror_mode": {
    "name": "ipython",
    "version": 3
   },
   "file_extension": ".py",
   "mimetype": "text/x-python",
   "name": "python",
   "nbconvert_exporter": "python",
   "pygments_lexer": "ipython3",
   "version": "3.11.0"
  }
 },
 "nbformat": 4,
 "nbformat_minor": 2
}
