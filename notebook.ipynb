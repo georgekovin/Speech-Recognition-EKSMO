{
 "cells": [
  {
   "cell_type": "code",
   "execution_count": 25,
   "metadata": {},
   "outputs": [],
   "source": [
    "import pandas as pd\n",
    "import numpy as np \n",
    "\n",
    "import speech_recognition as sr "
   ]
  },
  {
   "cell_type": "code",
   "execution_count": 26,
   "metadata": {},
   "outputs": [
    {
     "data": {
      "text/html": [
       "<div>\n",
       "<style scoped>\n",
       "    .dataframe tbody tr th:only-of-type {\n",
       "        vertical-align: middle;\n",
       "    }\n",
       "\n",
       "    .dataframe tbody tr th {\n",
       "        vertical-align: top;\n",
       "    }\n",
       "\n",
       "    .dataframe thead th {\n",
       "        text-align: right;\n",
       "    }\n",
       "</style>\n",
       "<table border=\"1\" class=\"dataframe\">\n",
       "  <thead>\n",
       "    <tr style=\"text-align: right;\">\n",
       "      <th></th>\n",
       "      <th>id</th>\n",
       "      <th>audio_filepath</th>\n",
       "      <th>text</th>\n",
       "      <th>duration</th>\n",
       "    </tr>\n",
       "  </thead>\n",
       "  <tbody>\n",
       "    <tr>\n",
       "      <th>0</th>\n",
       "      <td>73aff8bc8d99278c6ca6d1ac243557e3</td>\n",
       "      <td>files/73aff8bc8d99278c6ca6d1ac243557e3.wav</td>\n",
       "      <td>зили</td>\n",
       "      <td>2.298375</td>\n",
       "    </tr>\n",
       "    <tr>\n",
       "      <th>1</th>\n",
       "      <td>ed0f6706f75681a7915fec15d336aca5</td>\n",
       "      <td>files/ed0f6706f75681a7915fec15d336aca5.wav</td>\n",
       "      <td>дамира николаевича</td>\n",
       "      <td>3.800000</td>\n",
       "    </tr>\n",
       "    <tr>\n",
       "      <th>2</th>\n",
       "      <td>3c2875271fb918da312865549d444653</td>\n",
       "      <td>files/3c2875271fb918da312865549d444653.wav</td>\n",
       "      <td>антонине татариновой</td>\n",
       "      <td>2.500000</td>\n",
       "    </tr>\n",
       "    <tr>\n",
       "      <th>3</th>\n",
       "      <td>ba8443f3cc91e56667278db36dea02b7</td>\n",
       "      <td>files/ba8443f3cc91e56667278db36dea02b7.wav</td>\n",
       "      <td>виктору павловичу новокрещенову</td>\n",
       "      <td>3.040000</td>\n",
       "    </tr>\n",
       "    <tr>\n",
       "      <th>4</th>\n",
       "      <td>f3dba379c6280536aaa65a56c4358268</td>\n",
       "      <td>files/f3dba379c6280536aaa65a56c4358268.wav</td>\n",
       "      <td>жидкову</td>\n",
       "      <td>2.080000</td>\n",
       "    </tr>\n",
       "    <tr>\n",
       "      <th>...</th>\n",
       "      <td>...</td>\n",
       "      <td>...</td>\n",
       "      <td>...</td>\n",
       "      <td>...</td>\n",
       "    </tr>\n",
       "    <tr>\n",
       "      <th>79791</th>\n",
       "      <td>19fb11ac46e700873f80a0f615dad84c</td>\n",
       "      <td>files/19fb11ac46e700873f80a0f615dad84c.wav</td>\n",
       "      <td>вилка ложка</td>\n",
       "      <td>3.600000</td>\n",
       "    </tr>\n",
       "    <tr>\n",
       "      <th>79792</th>\n",
       "      <td>740fd944850faa097a05b2761ceb0665</td>\n",
       "      <td>files/740fd944850faa097a05b2761ceb0665.wav</td>\n",
       "      <td>фото таймырский</td>\n",
       "      <td>1.760000</td>\n",
       "    </tr>\n",
       "    <tr>\n",
       "      <th>79793</th>\n",
       "      <td>b14d3dd644d7f146433e1d478856a92d</td>\n",
       "      <td>files/b14d3dd644d7f146433e1d478856a92d.wav</td>\n",
       "      <td>айболит</td>\n",
       "      <td>1.700000</td>\n",
       "    </tr>\n",
       "    <tr>\n",
       "      <th>79794</th>\n",
       "      <td>ca27457fe19fe859f17a7c755d07b796</td>\n",
       "      <td>files/ca27457fe19fe859f17a7c755d07b796.wav</td>\n",
       "      <td>тольяттинский городской наркологический диспан...</td>\n",
       "      <td>3.440000</td>\n",
       "    </tr>\n",
       "    <tr>\n",
       "      <th>79795</th>\n",
       "      <td>5ab4ae4de2d64d8fc0e7c12c07e37a79</td>\n",
       "      <td>files/5ab4ae4de2d64d8fc0e7c12c07e37a79.wav</td>\n",
       "      <td>маршрут у дома</td>\n",
       "      <td>4.280000</td>\n",
       "    </tr>\n",
       "  </tbody>\n",
       "</table>\n",
       "<p>79796 rows × 4 columns</p>\n",
       "</div>"
      ],
      "text/plain": [
       "                                     id  \\\n",
       "0      73aff8bc8d99278c6ca6d1ac243557e3   \n",
       "1      ed0f6706f75681a7915fec15d336aca5   \n",
       "2      3c2875271fb918da312865549d444653   \n",
       "3      ba8443f3cc91e56667278db36dea02b7   \n",
       "4      f3dba379c6280536aaa65a56c4358268   \n",
       "...                                 ...   \n",
       "79791  19fb11ac46e700873f80a0f615dad84c   \n",
       "79792  740fd944850faa097a05b2761ceb0665   \n",
       "79793  b14d3dd644d7f146433e1d478856a92d   \n",
       "79794  ca27457fe19fe859f17a7c755d07b796   \n",
       "79795  5ab4ae4de2d64d8fc0e7c12c07e37a79   \n",
       "\n",
       "                                   audio_filepath  \\\n",
       "0      files/73aff8bc8d99278c6ca6d1ac243557e3.wav   \n",
       "1      files/ed0f6706f75681a7915fec15d336aca5.wav   \n",
       "2      files/3c2875271fb918da312865549d444653.wav   \n",
       "3      files/ba8443f3cc91e56667278db36dea02b7.wav   \n",
       "4      files/f3dba379c6280536aaa65a56c4358268.wav   \n",
       "...                                           ...   \n",
       "79791  files/19fb11ac46e700873f80a0f615dad84c.wav   \n",
       "79792  files/740fd944850faa097a05b2761ceb0665.wav   \n",
       "79793  files/b14d3dd644d7f146433e1d478856a92d.wav   \n",
       "79794  files/ca27457fe19fe859f17a7c755d07b796.wav   \n",
       "79795  files/5ab4ae4de2d64d8fc0e7c12c07e37a79.wav   \n",
       "\n",
       "                                                    text  duration  \n",
       "0                                                   зили  2.298375  \n",
       "1                                     дамира николаевича  3.800000  \n",
       "2                                   антонине татариновой  2.500000  \n",
       "3                        виктору павловичу новокрещенову  3.040000  \n",
       "4                                                жидкову  2.080000  \n",
       "...                                                  ...       ...  \n",
       "79791                                        вилка ложка  3.600000  \n",
       "79792                                    фото таймырский  1.760000  \n",
       "79793                                            айболит  1.700000  \n",
       "79794  тольяттинский городской наркологический диспан...  3.440000  \n",
       "79795                                     маршрут у дома  4.280000  \n",
       "\n",
       "[79796 rows x 4 columns]"
      ]
     },
     "execution_count": 26,
     "metadata": {},
     "output_type": "execute_result"
    }
   ],
   "source": [
    "data = pd.read_json('data/train/manifest.jsonl', lines=True)\n",
    "\n",
    "data"
   ]
  },
  {
   "cell_type": "code",
   "execution_count": 27,
   "metadata": {},
   "outputs": [
    {
     "name": "stdout",
     "output_type": "stream",
     "text": [
      "Recognized is \"бронь дастархан\", \n",
      "while real is \"бронь дастархан\". \n",
      "Similarity is True\n"
     ]
    }
   ],
   "source": [
    "recog = sr.Recognizer()\n",
    "\n",
    "i = np.random.randint(0, data.shape[0])\n",
    "path = data['audio_filepath'].iloc[i]\n",
    "\n",
    "with sr.AudioFile('data/train/'+path) as audio:\n",
    "    rec = recog.record(audio)\n",
    "    \n",
    "result = recog.recognize_google(audio_data=rec, language='ru-RU') \n",
    "real = data['text'].iloc[i]\n",
    "\n",
    "similarity = str(result).lower() == str(real).lower()\n",
    "\n",
    "print(f'Recognized is \"{str(result).lower()}\",',  \n",
    "      f'\\nwhile real is \"{str(real).lower()}\".',  \n",
    "      f'\\nSimilarity is {similarity}')"
   ]
  },
  {
   "cell_type": "code",
   "execution_count": 28,
   "metadata": {},
   "outputs": [
    {
     "name": "stdout",
     "output_type": "stream",
     "text": [
      "<_io.TextIOWrapper name='models/vosk-model-small-ru-0.22/am/final.mdl' mode='r' encoding='cp1251'>\n"
     ]
    }
   ],
   "source": [
    "with open('models/vosk-model-small-ru-0.22/am/final.mdl') as model:\n",
    "    print(model) "
   ]
  },
  {
   "cell_type": "code",
   "execution_count": 29,
   "metadata": {},
   "outputs": [
    {
     "ename": "RequestError",
     "evalue": "missing PocketSphinx language data directory: \"C:\\Users\\honor\\AppData\\Local\\Programs\\Python\\Python311\\Lib\\site-packages\\speech_recognition\\pocketsphinx-data\\ru-RU\"",
     "output_type": "error",
     "traceback": [
      "\u001b[1;31m---------------------------------------------------------------------------\u001b[0m",
      "\u001b[1;31mRequestError\u001b[0m                              Traceback (most recent call last)",
      "\u001b[1;32mc:\\Users\\honor\\OneDrive\\Документы\\GitHub\\Speech-Recognition-EKSMO\\notebook.ipynb Cell 5\u001b[0m line \u001b[0;36m1\n\u001b[1;32m----> <a href='vscode-notebook-cell:/c%3A/Users/honor/OneDrive/%D0%94%D0%BE%D0%BA%D1%83%D0%BC%D0%B5%D0%BD%D1%82%D1%8B/GitHub/Speech-Recognition-EKSMO/notebook.ipynb#W5sZmlsZQ%3D%3D?line=0'>1</a>\u001b[0m recog\u001b[39m.\u001b[39;49mrecognize_sphinx(audio_data\u001b[39m=\u001b[39;49mrec, language\u001b[39m=\u001b[39;49m\u001b[39m'\u001b[39;49m\u001b[39mru-RU\u001b[39;49m\u001b[39m'\u001b[39;49m)\n",
      "File \u001b[1;32mc:\\Users\\honor\\AppData\\Local\\Programs\\Python\\Python311\\Lib\\site-packages\\speech_recognition\\__init__.py:612\u001b[0m, in \u001b[0;36mRecognizer.recognize_sphinx\u001b[1;34m(self, audio_data, language, keyword_entries, grammar, show_all)\u001b[0m\n\u001b[0;32m    610\u001b[0m language_directory \u001b[39m=\u001b[39m os\u001b[39m.\u001b[39mpath\u001b[39m.\u001b[39mjoin(os\u001b[39m.\u001b[39mpath\u001b[39m.\u001b[39mdirname(os\u001b[39m.\u001b[39mpath\u001b[39m.\u001b[39mrealpath(\u001b[39m__file__\u001b[39m)), \u001b[39m\"\u001b[39m\u001b[39mpocketsphinx-data\u001b[39m\u001b[39m\"\u001b[39m, language)\n\u001b[0;32m    611\u001b[0m \u001b[39mif\u001b[39;00m \u001b[39mnot\u001b[39;00m os\u001b[39m.\u001b[39mpath\u001b[39m.\u001b[39misdir(language_directory):\n\u001b[1;32m--> 612\u001b[0m     \u001b[39mraise\u001b[39;00m RequestError(\u001b[39m\"\u001b[39m\u001b[39mmissing PocketSphinx language data directory: \u001b[39m\u001b[39m\\\"\u001b[39;00m\u001b[39m{}\u001b[39;00m\u001b[39m\\\"\u001b[39;00m\u001b[39m\"\u001b[39m\u001b[39m.\u001b[39mformat(language_directory))\n\u001b[0;32m    613\u001b[0m acoustic_parameters_directory \u001b[39m=\u001b[39m os\u001b[39m.\u001b[39mpath\u001b[39m.\u001b[39mjoin(language_directory, \u001b[39m\"\u001b[39m\u001b[39macoustic-model\u001b[39m\u001b[39m\"\u001b[39m)\n\u001b[0;32m    614\u001b[0m language_model_file \u001b[39m=\u001b[39m os\u001b[39m.\u001b[39mpath\u001b[39m.\u001b[39mjoin(language_directory, \u001b[39m\"\u001b[39m\u001b[39mlanguage-model.lm.bin\u001b[39m\u001b[39m\"\u001b[39m)\n",
      "\u001b[1;31mRequestError\u001b[0m: missing PocketSphinx language data directory: \"C:\\Users\\honor\\AppData\\Local\\Programs\\Python\\Python311\\Lib\\site-packages\\speech_recognition\\pocketsphinx-data\\ru-RU\""
     ]
    }
   ],
   "source": [
    "recog.recognize_sphinx(audio_data=rec, language='ru-RU')"
   ]
  }
 ],
 "metadata": {
  "kernelspec": {
   "display_name": "Python 3",
   "language": "python",
   "name": "python3"
  },
  "language_info": {
   "codemirror_mode": {
    "name": "ipython",
    "version": 3
   },
   "file_extension": ".py",
   "mimetype": "text/x-python",
   "name": "python",
   "nbconvert_exporter": "python",
   "pygments_lexer": "ipython3",
   "version": "3.11.0"
  },
  "orig_nbformat": 4
 },
 "nbformat": 4,
 "nbformat_minor": 2
}
