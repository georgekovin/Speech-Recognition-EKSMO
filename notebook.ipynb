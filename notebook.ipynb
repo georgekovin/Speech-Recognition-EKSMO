{
 "cells": [
  {
   "cell_type": "code",
   "execution_count": 7,
   "metadata": {},
   "outputs": [],
   "source": [
    "import pandas as pd\n",
    "import numpy as np \n",
    "import json"
   ]
  },
  {
   "cell_type": "code",
   "execution_count": 8,
   "metadata": {},
   "outputs": [
    {
     "data": {
      "text/html": [
       "<div>\n",
       "<style scoped>\n",
       "    .dataframe tbody tr th:only-of-type {\n",
       "        vertical-align: middle;\n",
       "    }\n",
       "\n",
       "    .dataframe tbody tr th {\n",
       "        vertical-align: top;\n",
       "    }\n",
       "\n",
       "    .dataframe thead th {\n",
       "        text-align: right;\n",
       "    }\n",
       "</style>\n",
       "<table border=\"1\" class=\"dataframe\">\n",
       "  <thead>\n",
       "    <tr style=\"text-align: right;\">\n",
       "      <th></th>\n",
       "      <th>id</th>\n",
       "      <th>audio_filepath</th>\n",
       "      <th>text</th>\n",
       "      <th>duration</th>\n",
       "    </tr>\n",
       "  </thead>\n",
       "  <tbody>\n",
       "    <tr>\n",
       "      <th>0</th>\n",
       "      <td>e632f7d39c15e7edfc665b91e6f2071f</td>\n",
       "      <td>files/e632f7d39c15e7edfc665b91e6f2071f.wav</td>\n",
       "      <td>афина воспроизведи музыку вперемешку</td>\n",
       "      <td>4.900000</td>\n",
       "    </tr>\n",
       "    <tr>\n",
       "      <th>1</th>\n",
       "      <td>5db5df8bb9e3b6660b2a04b34d4a355d</td>\n",
       "      <td>files/5db5df8bb9e3b6660b2a04b34d4a355d.wav</td>\n",
       "      <td>найти сериал григорий р</td>\n",
       "      <td>3.652000</td>\n",
       "    </tr>\n",
       "    <tr>\n",
       "      <th>2</th>\n",
       "      <td>2c471aedc6979109f28cd53c58f8c4fb</td>\n",
       "      <td>files/2c471aedc6979109f28cd53c58f8c4fb.wav</td>\n",
       "      <td>прямой эфир апл манчестер юнайтед тоттенхэм</td>\n",
       "      <td>4.341750</td>\n",
       "    </tr>\n",
       "    <tr>\n",
       "      <th>3</th>\n",
       "      <td>756a137ee9debde4a008adc4a4121dc7</td>\n",
       "      <td>files/756a137ee9debde4a008adc4a4121dc7.wav</td>\n",
       "      <td>ильвиром ивановичем ворончихиным</td>\n",
       "      <td>3.900000</td>\n",
       "    </tr>\n",
       "    <tr>\n",
       "      <th>4</th>\n",
       "      <td>1ee3b00170123a6723a40e129b2f6bce</td>\n",
       "      <td>files/1ee3b00170123a6723a40e129b2f6bce.wav</td>\n",
       "      <td>можешь показать киношку исходный код</td>\n",
       "      <td>3.320000</td>\n",
       "    </tr>\n",
       "    <tr>\n",
       "      <th>...</th>\n",
       "      <td>...</td>\n",
       "      <td>...</td>\n",
       "      <td>...</td>\n",
       "      <td>...</td>\n",
       "    </tr>\n",
       "    <tr>\n",
       "      <th>9989</th>\n",
       "      <td>73bb9272fe3724eb6212e33186f63152</td>\n",
       "      <td>files/73bb9272fe3724eb6212e33186f63152.wav</td>\n",
       "      <td>рудню</td>\n",
       "      <td>2.260000</td>\n",
       "    </tr>\n",
       "    <tr>\n",
       "      <th>9990</th>\n",
       "      <td>c872c6f50709a2696b0927725dc86ded</td>\n",
       "      <td>files/c872c6f50709a2696b0927725dc86ded.wav</td>\n",
       "      <td>найти мульт щенячий патруль</td>\n",
       "      <td>3.020000</td>\n",
       "    </tr>\n",
       "    <tr>\n",
       "      <th>9991</th>\n",
       "      <td>03b92263995462b2e09655a8e29d4d0b</td>\n",
       "      <td>files/03b92263995462b2e09655a8e29d4d0b.wav</td>\n",
       "      <td>стол из эпоксидной смолы</td>\n",
       "      <td>3.598688</td>\n",
       "    </tr>\n",
       "    <tr>\n",
       "      <th>9992</th>\n",
       "      <td>09ac1f9718c6da18380b4a01d92d2561</td>\n",
       "      <td>files/09ac1f9718c6da18380b4a01d92d2561.wav</td>\n",
       "      <td>шесть четыреста семьдесят шесть четыреста двад...</td>\n",
       "      <td>11.795312</td>\n",
       "    </tr>\n",
       "    <tr>\n",
       "      <th>9993</th>\n",
       "      <td>a083e695744a9191ebb7f8cc85925f9f</td>\n",
       "      <td>files/a083e695744a9191ebb7f8cc85925f9f.wav</td>\n",
       "      <td>короткометражный</td>\n",
       "      <td>2.832438</td>\n",
       "    </tr>\n",
       "  </tbody>\n",
       "</table>\n",
       "<p>9994 rows × 4 columns</p>\n",
       "</div>"
      ],
      "text/plain": [
       "                                    id  \\\n",
       "0     e632f7d39c15e7edfc665b91e6f2071f   \n",
       "1     5db5df8bb9e3b6660b2a04b34d4a355d   \n",
       "2     2c471aedc6979109f28cd53c58f8c4fb   \n",
       "3     756a137ee9debde4a008adc4a4121dc7   \n",
       "4     1ee3b00170123a6723a40e129b2f6bce   \n",
       "...                                ...   \n",
       "9989  73bb9272fe3724eb6212e33186f63152   \n",
       "9990  c872c6f50709a2696b0927725dc86ded   \n",
       "9991  03b92263995462b2e09655a8e29d4d0b   \n",
       "9992  09ac1f9718c6da18380b4a01d92d2561   \n",
       "9993  a083e695744a9191ebb7f8cc85925f9f   \n",
       "\n",
       "                                  audio_filepath  \\\n",
       "0     files/e632f7d39c15e7edfc665b91e6f2071f.wav   \n",
       "1     files/5db5df8bb9e3b6660b2a04b34d4a355d.wav   \n",
       "2     files/2c471aedc6979109f28cd53c58f8c4fb.wav   \n",
       "3     files/756a137ee9debde4a008adc4a4121dc7.wav   \n",
       "4     files/1ee3b00170123a6723a40e129b2f6bce.wav   \n",
       "...                                          ...   \n",
       "9989  files/73bb9272fe3724eb6212e33186f63152.wav   \n",
       "9990  files/c872c6f50709a2696b0927725dc86ded.wav   \n",
       "9991  files/03b92263995462b2e09655a8e29d4d0b.wav   \n",
       "9992  files/09ac1f9718c6da18380b4a01d92d2561.wav   \n",
       "9993  files/a083e695744a9191ebb7f8cc85925f9f.wav   \n",
       "\n",
       "                                                   text   duration  \n",
       "0                  афина воспроизведи музыку вперемешку   4.900000  \n",
       "1                               найти сериал григорий р   3.652000  \n",
       "2           прямой эфир апл манчестер юнайтед тоттенхэм   4.341750  \n",
       "3                      ильвиром ивановичем ворончихиным   3.900000  \n",
       "4                  можешь показать киношку исходный код   3.320000  \n",
       "...                                                 ...        ...  \n",
       "9989                                              рудню   2.260000  \n",
       "9990                        найти мульт щенячий патруль   3.020000  \n",
       "9991                           стол из эпоксидной смолы   3.598688  \n",
       "9992  шесть четыреста семьдесят шесть четыреста двад...  11.795312  \n",
       "9993                                   короткометражный   2.832438  \n",
       "\n",
       "[9994 rows x 4 columns]"
      ]
     },
     "execution_count": 8,
     "metadata": {},
     "output_type": "execute_result"
    }
   ],
   "source": [
    "data = pd.read_json('data/manifest.jsonl', lines=True)\n",
    "\n",
    "data"
   ]
  },
  {
   "cell_type": "code",
   "execution_count": 9,
   "metadata": {},
   "outputs": [],
   "source": [
    "i = np.random.randint(0, data.shape[0])\n",
    "\n",
    "audio_id = data['id'].iloc[i]\n",
    "audio_path = data['audio_filepath'].iloc[i]\n",
    "audio_text = data['text'].iloc[i]\n",
    "\n",
    "def compare_audio(result, real, similarity):\n",
    "    print(f'Recognized is \"{str(result).lower()}\",',  \n",
    "          f'\\nwhile real is \"{str(real).lower()}\".',  \n",
    "          f'\\nSimilarity is {similarity}')\n",
    "    \n",
    "def dump_text(result, audio_id):\n",
    "    with open(f'data/texts/{audio_id}'+'_text.txt', 'w') as f:\n",
    "        json.dump(result, f, ensure_ascii=False, indent=4)"
   ]
  },
  {
   "cell_type": "markdown",
   "metadata": {},
   "source": [
    "Speech Recognition (google)"
   ]
  },
  {
   "cell_type": "code",
   "execution_count": 10,
   "metadata": {},
   "outputs": [],
   "source": [
    "import speech_recognition as sr "
   ]
  },
  {
   "cell_type": "code",
   "execution_count": 11,
   "metadata": {},
   "outputs": [
    {
     "name": "stdout",
     "output_type": "stream",
     "text": [
      "Recognized is \"к какому году относятся первые русские сообщения о байкале\", \n",
      "while real is \"к какому году относятся первые русские сообщения о байкале\". \n",
      "Similarity is True\n"
     ]
    }
   ],
   "source": [
    "recog = sr.Recognizer()\n",
    "\n",
    "with sr.AudioFile('data/'+audio_path) as audio:\n",
    "    rec = recog.record(audio)\n",
    "    \n",
    "result = recog.recognize_google(audio_data=rec, language='ru-RU') \n",
    "\n",
    "similarity = str(result).lower() == str(audio_text).lower()\n",
    "\n",
    "compare_audio(result, audio_text, similarity)\n",
    "dump_text(result, audio_id)"
   ]
  },
  {
   "cell_type": "markdown",
   "metadata": {},
   "source": [
    "Vosk"
   ]
  },
  {
   "cell_type": "code",
   "execution_count": 12,
   "metadata": {},
   "outputs": [],
   "source": [
    "from vosk import Model, KaldiRecognizer\n",
    "from pydub import AudioSegment"
   ]
  },
  {
   "cell_type": "code",
   "execution_count": null,
   "metadata": {},
   "outputs": [],
   "source": [
    "model = Model(\"model\")\n",
    "recog = KaldiRecognizer(model, 16000)\n",
    "recog.SetWords(True)\n",
    "\n",
    "# Используя библиотеку pydub делаем предобработку аудио\n",
    "wav = (AudioSegment.from_wav(audio_path)\n",
    "       .set_channels(1)\n",
    "       .set_frame_rate(16000))\n",
    "\n",
    "# Преобразуем вывод в json\n",
    "recog.AcceptWaveform(wav.raw_data)\n",
    "result = recog.Result()\n",
    "text = json.loads(result)[\"text\"]\n",
    "\n",
    "# Записываем результат в файл \"data.txt\"\n",
    "with open('data.txt', 'w') as f:\n",
    "    json.dump(text, f, ensure_ascii=False, indent=4)"
   ]
  }
 ],
 "metadata": {
  "kernelspec": {
   "display_name": "Python 3",
   "language": "python",
   "name": "python3"
  },
  "language_info": {
   "codemirror_mode": {
    "name": "ipython",
    "version": 3
   },
   "file_extension": ".py",
   "mimetype": "text/x-python",
   "name": "python",
   "nbconvert_exporter": "python",
   "pygments_lexer": "ipython3",
   "version": "3.11.0"
  },
  "orig_nbformat": 4
 },
 "nbformat": 4,
 "nbformat_minor": 2
}
