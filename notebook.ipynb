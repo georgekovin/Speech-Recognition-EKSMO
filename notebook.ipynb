{
 "cells": [
  {
   "cell_type": "code",
   "execution_count": 1,
   "metadata": {},
   "outputs": [],
   "source": [
    "import pandas as pd\n",
    "import numpy as np \n",
    "import json\n",
    "\n",
    "import warnings as w \n",
    "w.filterwarnings('ignore')"
   ]
  },
  {
   "cell_type": "code",
   "execution_count": 2,
   "metadata": {},
   "outputs": [
    {
     "data": {
      "text/html": [
       "<div>\n",
       "<style scoped>\n",
       "    .dataframe tbody tr th:only-of-type {\n",
       "        vertical-align: middle;\n",
       "    }\n",
       "\n",
       "    .dataframe tbody tr th {\n",
       "        vertical-align: top;\n",
       "    }\n",
       "\n",
       "    .dataframe thead th {\n",
       "        text-align: right;\n",
       "    }\n",
       "</style>\n",
       "<table border=\"1\" class=\"dataframe\">\n",
       "  <thead>\n",
       "    <tr style=\"text-align: right;\">\n",
       "      <th></th>\n",
       "      <th>id</th>\n",
       "      <th>audio_filepath</th>\n",
       "      <th>text</th>\n",
       "      <th>duration</th>\n",
       "    </tr>\n",
       "  </thead>\n",
       "  <tbody>\n",
       "    <tr>\n",
       "      <th>0</th>\n",
       "      <td>e632f7d39c15e7edfc665b91e6f2071f</td>\n",
       "      <td>files/e632f7d39c15e7edfc665b91e6f2071f.wav</td>\n",
       "      <td>афина воспроизведи музыку вперемешку</td>\n",
       "      <td>4.900000</td>\n",
       "    </tr>\n",
       "    <tr>\n",
       "      <th>1</th>\n",
       "      <td>5db5df8bb9e3b6660b2a04b34d4a355d</td>\n",
       "      <td>files/5db5df8bb9e3b6660b2a04b34d4a355d.wav</td>\n",
       "      <td>найти сериал григорий р</td>\n",
       "      <td>3.652000</td>\n",
       "    </tr>\n",
       "    <tr>\n",
       "      <th>2</th>\n",
       "      <td>2c471aedc6979109f28cd53c58f8c4fb</td>\n",
       "      <td>files/2c471aedc6979109f28cd53c58f8c4fb.wav</td>\n",
       "      <td>прямой эфир апл манчестер юнайтед тоттенхэм</td>\n",
       "      <td>4.341750</td>\n",
       "    </tr>\n",
       "    <tr>\n",
       "      <th>3</th>\n",
       "      <td>756a137ee9debde4a008adc4a4121dc7</td>\n",
       "      <td>files/756a137ee9debde4a008adc4a4121dc7.wav</td>\n",
       "      <td>ильвиром ивановичем ворончихиным</td>\n",
       "      <td>3.900000</td>\n",
       "    </tr>\n",
       "    <tr>\n",
       "      <th>4</th>\n",
       "      <td>1ee3b00170123a6723a40e129b2f6bce</td>\n",
       "      <td>files/1ee3b00170123a6723a40e129b2f6bce.wav</td>\n",
       "      <td>можешь показать киношку исходный код</td>\n",
       "      <td>3.320000</td>\n",
       "    </tr>\n",
       "    <tr>\n",
       "      <th>...</th>\n",
       "      <td>...</td>\n",
       "      <td>...</td>\n",
       "      <td>...</td>\n",
       "      <td>...</td>\n",
       "    </tr>\n",
       "    <tr>\n",
       "      <th>9989</th>\n",
       "      <td>73bb9272fe3724eb6212e33186f63152</td>\n",
       "      <td>files/73bb9272fe3724eb6212e33186f63152.wav</td>\n",
       "      <td>рудню</td>\n",
       "      <td>2.260000</td>\n",
       "    </tr>\n",
       "    <tr>\n",
       "      <th>9990</th>\n",
       "      <td>c872c6f50709a2696b0927725dc86ded</td>\n",
       "      <td>files/c872c6f50709a2696b0927725dc86ded.wav</td>\n",
       "      <td>найти мульт щенячий патруль</td>\n",
       "      <td>3.020000</td>\n",
       "    </tr>\n",
       "    <tr>\n",
       "      <th>9991</th>\n",
       "      <td>03b92263995462b2e09655a8e29d4d0b</td>\n",
       "      <td>files/03b92263995462b2e09655a8e29d4d0b.wav</td>\n",
       "      <td>стол из эпоксидной смолы</td>\n",
       "      <td>3.598688</td>\n",
       "    </tr>\n",
       "    <tr>\n",
       "      <th>9992</th>\n",
       "      <td>09ac1f9718c6da18380b4a01d92d2561</td>\n",
       "      <td>files/09ac1f9718c6da18380b4a01d92d2561.wav</td>\n",
       "      <td>шесть четыреста семьдесят шесть четыреста двад...</td>\n",
       "      <td>11.795312</td>\n",
       "    </tr>\n",
       "    <tr>\n",
       "      <th>9993</th>\n",
       "      <td>a083e695744a9191ebb7f8cc85925f9f</td>\n",
       "      <td>files/a083e695744a9191ebb7f8cc85925f9f.wav</td>\n",
       "      <td>короткометражный</td>\n",
       "      <td>2.832438</td>\n",
       "    </tr>\n",
       "  </tbody>\n",
       "</table>\n",
       "<p>9994 rows × 4 columns</p>\n",
       "</div>"
      ],
      "text/plain": [
       "                                    id  \\\n",
       "0     e632f7d39c15e7edfc665b91e6f2071f   \n",
       "1     5db5df8bb9e3b6660b2a04b34d4a355d   \n",
       "2     2c471aedc6979109f28cd53c58f8c4fb   \n",
       "3     756a137ee9debde4a008adc4a4121dc7   \n",
       "4     1ee3b00170123a6723a40e129b2f6bce   \n",
       "...                                ...   \n",
       "9989  73bb9272fe3724eb6212e33186f63152   \n",
       "9990  c872c6f50709a2696b0927725dc86ded   \n",
       "9991  03b92263995462b2e09655a8e29d4d0b   \n",
       "9992  09ac1f9718c6da18380b4a01d92d2561   \n",
       "9993  a083e695744a9191ebb7f8cc85925f9f   \n",
       "\n",
       "                                  audio_filepath  \\\n",
       "0     files/e632f7d39c15e7edfc665b91e6f2071f.wav   \n",
       "1     files/5db5df8bb9e3b6660b2a04b34d4a355d.wav   \n",
       "2     files/2c471aedc6979109f28cd53c58f8c4fb.wav   \n",
       "3     files/756a137ee9debde4a008adc4a4121dc7.wav   \n",
       "4     files/1ee3b00170123a6723a40e129b2f6bce.wav   \n",
       "...                                          ...   \n",
       "9989  files/73bb9272fe3724eb6212e33186f63152.wav   \n",
       "9990  files/c872c6f50709a2696b0927725dc86ded.wav   \n",
       "9991  files/03b92263995462b2e09655a8e29d4d0b.wav   \n",
       "9992  files/09ac1f9718c6da18380b4a01d92d2561.wav   \n",
       "9993  files/a083e695744a9191ebb7f8cc85925f9f.wav   \n",
       "\n",
       "                                                   text   duration  \n",
       "0                  афина воспроизведи музыку вперемешку   4.900000  \n",
       "1                               найти сериал григорий р   3.652000  \n",
       "2           прямой эфир апл манчестер юнайтед тоттенхэм   4.341750  \n",
       "3                      ильвиром ивановичем ворончихиным   3.900000  \n",
       "4                  можешь показать киношку исходный код   3.320000  \n",
       "...                                                 ...        ...  \n",
       "9989                                              рудню   2.260000  \n",
       "9990                        найти мульт щенячий патруль   3.020000  \n",
       "9991                           стол из эпоксидной смолы   3.598688  \n",
       "9992  шесть четыреста семьдесят шесть четыреста двад...  11.795312  \n",
       "9993                                   короткометражный   2.832438  \n",
       "\n",
       "[9994 rows x 4 columns]"
      ]
     },
     "execution_count": 2,
     "metadata": {},
     "output_type": "execute_result"
    }
   ],
   "source": [
    "data = pd.read_json('data/manifest.jsonl', lines=True)\n",
    "\n",
    "data"
   ]
  },
  {
   "cell_type": "code",
   "execution_count": 3,
   "metadata": {},
   "outputs": [],
   "source": [
    "i = np.random.randint(0, data.shape[0])\n",
    "\n",
    "audio_id = data['id'].iloc[i]\n",
    "audio_path = 'data/' + data['audio_filepath'].iloc[i]\n",
    "audio_text = data['text'].iloc[i]\n",
    "\n",
    "def compare_and_dump(result, real, audio_id):\n",
    "    result_str = str(result).lower()\n",
    "    real_str = str(real).lower()\n",
    "    similarity = result_str == real_str\n",
    "    \n",
    "    print(f'Recognized is \"{result_str}\",',  \n",
    "          f'\\nwhile real is \"{real_str}\".',  \n",
    "          f'\\nSimilarity is {similarity}')\n",
    "    \n",
    "    result_path = f'data/texts/{audio_id}_text.txt'\n",
    "    \n",
    "    with open(result_path, 'w') as f:\n",
    "        json.dump(result, f, ensure_ascii=False, indent=4)\n",
    "\n",
    "    print('\\nResult has been saved into '+result_path)"
   ]
  },
  {
   "cell_type": "markdown",
   "metadata": {},
   "source": [
    "Speech Recognition (google)"
   ]
  },
  {
   "cell_type": "code",
   "execution_count": 4,
   "metadata": {},
   "outputs": [],
   "source": [
    "import speech_recognition as sr "
   ]
  },
  {
   "cell_type": "code",
   "execution_count": 5,
   "metadata": {},
   "outputs": [
    {
     "name": "stdout",
     "output_type": "stream",
     "text": [
      "Recognized is \"катастрофа\", \n",
      "while real is \"включи катастрофу\". \n",
      "Similarity is False\n",
      "\n",
      "Result has been saved into data/texts/f4dd5758b36ea972c330ccb806385140_google_text.txt\n"
     ]
    }
   ],
   "source": [
    "recog = sr.Recognizer()\n",
    "\n",
    "with sr.AudioFile(audio_path) as audio:\n",
    "    recog.adjust_for_ambient_noise(audio)\n",
    "    rec = recog.record(audio)\n",
    "    \n",
    "result = recog.recognize_google(audio_data=rec, language='ru-RU') \n",
    "\n",
    "audio_id_google = audio_id + '_google'\n",
    "compare_and_dump(result, audio_text, audio_id_google)"
   ]
  },
  {
   "cell_type": "code",
   "execution_count": 7,
   "metadata": {},
   "outputs": [
    {
     "ename": "RuntimeError",
     "evalue": "Failed to initialize PocketSphinx",
     "output_type": "error",
     "traceback": [
      "\u001b[1;31m---------------------------------------------------------------------------\u001b[0m",
      "\u001b[1;31mRuntimeError\u001b[0m                              Traceback (most recent call last)",
      "\u001b[1;32mc:\\Users\\honor\\OneDrive\\Документы\\GitHub\\Speech-Recognition-EKSMO\\notebook.ipynb Cell 7\u001b[0m line \u001b[0;36m6\n\u001b[0;32m      <a href='vscode-notebook-cell:/c%3A/Users/honor/OneDrive/%D0%94%D0%BE%D0%BA%D1%83%D0%BC%D0%B5%D0%BD%D1%82%D1%8B/GitHub/Speech-Recognition-EKSMO/notebook.ipynb#X10sZmlsZQ%3D%3D?line=1'>2</a>\u001b[0m \u001b[39mfrom\u001b[39;00m \u001b[39mpocketsphinx\u001b[39;00m \u001b[39mimport\u001b[39;00m LiveSpeech, get_model_path\n\u001b[0;32m      <a href='vscode-notebook-cell:/c%3A/Users/honor/OneDrive/%D0%94%D0%BE%D0%BA%D1%83%D0%BC%D0%B5%D0%BD%D1%82%D1%8B/GitHub/Speech-Recognition-EKSMO/notebook.ipynb#X10sZmlsZQ%3D%3D?line=3'>4</a>\u001b[0m model_path \u001b[39m=\u001b[39m get_model_path()\n\u001b[1;32m----> <a href='vscode-notebook-cell:/c%3A/Users/honor/OneDrive/%D0%94%D0%BE%D0%BA%D1%83%D0%BC%D0%B5%D0%BD%D1%82%D1%8B/GitHub/Speech-Recognition-EKSMO/notebook.ipynb#X10sZmlsZQ%3D%3D?line=5'>6</a>\u001b[0m speech \u001b[39m=\u001b[39m LiveSpeech(\n\u001b[0;32m      <a href='vscode-notebook-cell:/c%3A/Users/honor/OneDrive/%D0%94%D0%BE%D0%BA%D1%83%D0%BC%D0%B5%D0%BD%D1%82%D1%8B/GitHub/Speech-Recognition-EKSMO/notebook.ipynb#X10sZmlsZQ%3D%3D?line=6'>7</a>\u001b[0m     verbose\u001b[39m=\u001b[39;49m\u001b[39mTrue\u001b[39;49;00m,\n\u001b[0;32m      <a href='vscode-notebook-cell:/c%3A/Users/honor/OneDrive/%D0%94%D0%BE%D0%BA%D1%83%D0%BC%D0%B5%D0%BD%D1%82%D1%8B/GitHub/Speech-Recognition-EKSMO/notebook.ipynb#X10sZmlsZQ%3D%3D?line=7'>8</a>\u001b[0m     sampling_rate\u001b[39m=\u001b[39;49m\u001b[39m16000\u001b[39;49m,\n\u001b[0;32m      <a href='vscode-notebook-cell:/c%3A/Users/honor/OneDrive/%D0%94%D0%BE%D0%BA%D1%83%D0%BC%D0%B5%D0%BD%D1%82%D1%8B/GitHub/Speech-Recognition-EKSMO/notebook.ipynb#X10sZmlsZQ%3D%3D?line=8'>9</a>\u001b[0m     buffer_size\u001b[39m=\u001b[39;49m\u001b[39m2048\u001b[39;49m,\n\u001b[0;32m     <a href='vscode-notebook-cell:/c%3A/Users/honor/OneDrive/%D0%94%D0%BE%D0%BA%D1%83%D0%BC%D0%B5%D0%BD%D1%82%D1%8B/GitHub/Speech-Recognition-EKSMO/notebook.ipynb#X10sZmlsZQ%3D%3D?line=9'>10</a>\u001b[0m     no_search\u001b[39m=\u001b[39;49m\u001b[39mFalse\u001b[39;49;00m,\n\u001b[0;32m     <a href='vscode-notebook-cell:/c%3A/Users/honor/OneDrive/%D0%94%D0%BE%D0%BA%D1%83%D0%BC%D0%B5%D0%BD%D1%82%D1%8B/GitHub/Speech-Recognition-EKSMO/notebook.ipynb#X10sZmlsZQ%3D%3D?line=10'>11</a>\u001b[0m     full_utt\u001b[39m=\u001b[39;49m\u001b[39mFalse\u001b[39;49;00m,\n\u001b[0;32m     <a href='vscode-notebook-cell:/c%3A/Users/honor/OneDrive/%D0%94%D0%BE%D0%BA%D1%83%D0%BC%D0%B5%D0%BD%D1%82%D1%8B/GitHub/Speech-Recognition-EKSMO/notebook.ipynb#X10sZmlsZQ%3D%3D?line=11'>12</a>\u001b[0m     hmm\u001b[39m=\u001b[39;49mos\u001b[39m.\u001b[39;49mpath\u001b[39m.\u001b[39;49mjoin(model_path, \u001b[39m'\u001b[39;49m\u001b[39mzero_ru.cd_cont_4000\u001b[39;49m\u001b[39m'\u001b[39;49m),\n\u001b[0;32m     <a href='vscode-notebook-cell:/c%3A/Users/honor/OneDrive/%D0%94%D0%BE%D0%BA%D1%83%D0%BC%D0%B5%D0%BD%D1%82%D1%8B/GitHub/Speech-Recognition-EKSMO/notebook.ipynb#X10sZmlsZQ%3D%3D?line=12'>13</a>\u001b[0m     lm\u001b[39m=\u001b[39;49mos\u001b[39m.\u001b[39;49mpath\u001b[39m.\u001b[39;49mjoin(model_path, \u001b[39m'\u001b[39;49m\u001b[39mru.lm\u001b[39;49m\u001b[39m'\u001b[39;49m),\n\u001b[0;32m     <a href='vscode-notebook-cell:/c%3A/Users/honor/OneDrive/%D0%94%D0%BE%D0%BA%D1%83%D0%BC%D0%B5%D0%BD%D1%82%D1%8B/GitHub/Speech-Recognition-EKSMO/notebook.ipynb#X10sZmlsZQ%3D%3D?line=13'>14</a>\u001b[0m     dic\u001b[39m=\u001b[39;49mos\u001b[39m.\u001b[39;49mpath\u001b[39m.\u001b[39;49mjoin(model_path, \u001b[39m'\u001b[39;49m\u001b[39mru.dic\u001b[39;49m\u001b[39m'\u001b[39;49m)\n\u001b[0;32m     <a href='vscode-notebook-cell:/c%3A/Users/honor/OneDrive/%D0%94%D0%BE%D0%BA%D1%83%D0%BC%D0%B5%D0%BD%D1%82%D1%8B/GitHub/Speech-Recognition-EKSMO/notebook.ipynb#X10sZmlsZQ%3D%3D?line=14'>15</a>\u001b[0m )\n\u001b[0;32m     <a href='vscode-notebook-cell:/c%3A/Users/honor/OneDrive/%D0%94%D0%BE%D0%BA%D1%83%D0%BC%D0%B5%D0%BD%D1%82%D1%8B/GitHub/Speech-Recognition-EKSMO/notebook.ipynb#X10sZmlsZQ%3D%3D?line=16'>17</a>\u001b[0m \u001b[39mprint\u001b[39m(\u001b[39m\"\u001b[39m\u001b[39mSay something!\u001b[39m\u001b[39m\"\u001b[39m)\n\u001b[0;32m     <a href='vscode-notebook-cell:/c%3A/Users/honor/OneDrive/%D0%94%D0%BE%D0%BA%D1%83%D0%BC%D0%B5%D0%BD%D1%82%D1%8B/GitHub/Speech-Recognition-EKSMO/notebook.ipynb#X10sZmlsZQ%3D%3D?line=18'>19</a>\u001b[0m \u001b[39mfor\u001b[39;00m phrase \u001b[39min\u001b[39;00m speech:\n",
      "File \u001b[1;32mc:\\Users\\honor\\AppData\\Local\\Programs\\Python\\Python311\\Lib\\site-packages\\pocketsphinx\\__init__.py:254\u001b[0m, in \u001b[0;36mLiveSpeech.__init__\u001b[1;34m(self, **kwargs)\u001b[0m\n\u001b[0;32m    245\u001b[0m     \u001b[39mraise\u001b[39;00m \u001b[39mRuntimeError\u001b[39;00m(\u001b[39m\"\u001b[39m\u001b[39mLiveSpeech not supported: \u001b[39m\u001b[39m%s\u001b[39;00m\u001b[39m\"\u001b[39m \u001b[39m%\u001b[39m e)\n\u001b[0;32m    246\u001b[0m \u001b[39mself\u001b[39m\u001b[39m.\u001b[39mad \u001b[39m=\u001b[39m sounddevice\u001b[39m.\u001b[39mRawInputStream(\n\u001b[0;32m    247\u001b[0m     samplerate\u001b[39m=\u001b[39m\u001b[39mself\u001b[39m\u001b[39m.\u001b[39msampling_rate,\n\u001b[0;32m    248\u001b[0m     \u001b[39m# WE DO NOT CARE ABOUT LATENCY!\u001b[39;00m\n\u001b[1;32m   (...)\u001b[0m\n\u001b[0;32m    252\u001b[0m     device\u001b[39m=\u001b[39m\u001b[39mself\u001b[39m\u001b[39m.\u001b[39maudio_device,\n\u001b[0;32m    253\u001b[0m )\n\u001b[1;32m--> 254\u001b[0m \u001b[39msuper\u001b[39;49m(LiveSpeech, \u001b[39mself\u001b[39;49m)\u001b[39m.\u001b[39;49m\u001b[39m__init__\u001b[39;49m(\u001b[39m*\u001b[39;49m\u001b[39m*\u001b[39;49mkwargs)\n",
      "File \u001b[1;32mc:\\Users\\honor\\AppData\\Local\\Programs\\Python\\Python311\\Lib\\site-packages\\pocketsphinx\\__init__.py:105\u001b[0m, in \u001b[0;36mPocketsphinx.__init__\u001b[1;34m(self, **kwargs)\u001b[0m\n\u001b[0;32m    103\u001b[0m     kwargs[\u001b[39m\"\u001b[39m\u001b[39mloglevel\u001b[39m\u001b[39m\"\u001b[39m] \u001b[39m=\u001b[39m \u001b[39m\"\u001b[39m\u001b[39mINFO\u001b[39m\u001b[39m\"\u001b[39m\n\u001b[0;32m    104\u001b[0m \u001b[39mself\u001b[39m\u001b[39m.\u001b[39mstart_frame \u001b[39m=\u001b[39m \u001b[39m0\u001b[39m\n\u001b[1;32m--> 105\u001b[0m \u001b[39msuper\u001b[39;49m(Pocketsphinx, \u001b[39mself\u001b[39;49m)\u001b[39m.\u001b[39;49m\u001b[39m__init__\u001b[39;49m(\u001b[39m*\u001b[39;49m\u001b[39m*\u001b[39;49mkwargs)\n",
      "File \u001b[1;32m_pocketsphinx.pyx:852\u001b[0m, in \u001b[0;36m_pocketsphinx.Decoder.__init__\u001b[1;34m()\u001b[0m\n",
      "\u001b[1;31mRuntimeError\u001b[0m: Failed to initialize PocketSphinx"
     ]
    }
   ],
   "source": [
    "import os\n",
    "from pocketsphinx import LiveSpeech, get_model_path\n",
    "\n",
    "model_path = get_model_path()\n",
    "\n",
    "speech = LiveSpeech(\n",
    "    verbose=True,\n",
    "    sampling_rate=16000,\n",
    "    buffer_size=2048,\n",
    "    no_search=False,\n",
    "    full_utt=False,\n",
    "    hmm=os.path.join(model_path, 'zero_ru.cd_cont_4000'),\n",
    "    lm=os.path.join(model_path, 'ru.lm'),\n",
    "    dic=os.path.join(model_path, 'ru.dic')\n",
    ")\n",
    "\n",
    "print(\"Say something!\")\n",
    "\n",
    "for phrase in speech:\n",
    "    print(phrase)"
   ]
  },
  {
   "cell_type": "markdown",
   "metadata": {},
   "source": [
    "Vosk"
   ]
  },
  {
   "cell_type": "code",
   "execution_count": null,
   "metadata": {},
   "outputs": [],
   "source": [
    "from vosk import Model, KaldiRecognizer\n",
    "from pydub import AudioSegment "
   ]
  },
  {
   "cell_type": "code",
   "execution_count": null,
   "metadata": {},
   "outputs": [
    {
     "name": "stdout",
     "output_type": "stream",
     "text": [
      "Recognized is \"фильм бал\", \n",
      "while real is \"фильм башня из слоновой кости\". \n",
      "Similarity is False\n",
      "\n",
      "Result has been saved into data/texts/5cd3e9faa0a4f25593f522565ec79083_vosk_text.txt\n"
     ]
    }
   ],
   "source": [
    "model = Model(\"vosk_model\")\n",
    "recog = KaldiRecognizer(model, 16000)\n",
    "recog.SetWords(True)\n",
    "\n",
    "# Используя библиотеку pydub делаем предобработку аудио\n",
    "wav = (AudioSegment.from_wav(audio_path)\n",
    "       .set_channels(1)\n",
    "       .set_frame_rate(16000))\n",
    "\n",
    "# Преобразуем вывод в json\n",
    "recog.AcceptWaveform(wav.raw_data)\n",
    "result = recog.Result()\n",
    "text = json.loads(result)[\"text\"]\n",
    "\n",
    "audio_id_vosk = audio_id + '_vosk'\n",
    "compare_and_dump(text, audio_text, audio_id_vosk)"
   ]
  },
  {
   "cell_type": "code",
   "execution_count": null,
   "metadata": {},
   "outputs": [],
   "source": []
  }
 ],
 "metadata": {
  "kernelspec": {
   "display_name": "Python 3",
   "language": "python",
   "name": "python3"
  },
  "language_info": {
   "codemirror_mode": {
    "name": "ipython",
    "version": 3
   },
   "file_extension": ".py",
   "mimetype": "text/x-python",
   "name": "python",
   "nbconvert_exporter": "python",
   "pygments_lexer": "ipython3",
   "version": "3.11.0"
  },
  "orig_nbformat": 4
 },
 "nbformat": 4,
 "nbformat_minor": 2
}
